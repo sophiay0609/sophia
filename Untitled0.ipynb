{
  "nbformat": 4,
  "nbformat_minor": 0,
  "metadata": {
    "colab": {
      "provenance": [],
      "toc_visible": true,
      "authorship_tag": "ABX9TyM3UBYnqmeiuTO4uCTeLxhk",
      "include_colab_link": true
    },
    "kernelspec": {
      "name": "python3",
      "display_name": "Python 3"
    },
    "language_info": {
      "name": "python"
    }
  },
  "cells": [
    {
      "cell_type": "markdown",
      "metadata": {
        "id": "view-in-github",
        "colab_type": "text"
      },
      "source": [
        "<a href=\"https://colab.research.google.com/github/sophiay0609/sophia/blob/main/Untitled0.ipynb\" target=\"_parent\"><img src=\"https://colab.research.google.com/assets/colab-badge.svg\" alt=\"Open In Colab\"/></a>"
      ]
    },
    {
      "cell_type": "markdown",
      "source": [
        "# 새 섹션"
      ],
      "metadata": {
        "id": "c_A9F1ioSGqb"
      }
    },
    {
      "cell_type": "code",
      "source": [
        "import random\n",
        "import time\n",
        "\n",
        "# 1~20까지 숫자 리스트\n",
        "numbers = list(range(1, 21))\n",
        "\n",
        "# 사용자가 입력한 숫자 저장\n",
        "used_inputs = []\n",
        "\n",
        "# 결과값으로 사용된 숫자 저장\n",
        "used_results = []\n",
        "\n",
        "# (입력값, 결과값) 순서쌍 저장 리스트\n",
        "pairs = []\n",
        "\n",
        "def get_available_results(user_input):\n",
        "    \"\"\"사용자가 입력한 숫자와 이미 선택된 결과값을 제외한 남은 숫자들 반환\"\"\"\n",
        "    return [num for num in numbers if num not in used_results and num != user_input]\n",
        "\n",
        "def get_random_result(available_results):\n",
        "    \"\"\"남은 숫자 중에서 랜덤으로 하나 선택\"\"\"\n",
        "    random.shuffle(available_results)  # 리스트를 섞어서 랜덤으로 값 선택\n",
        "    return available_results[0]  # 섞은 리스트에서 첫 번째 값 선택\n",
        "\n",
        "# 랜덤 시드 설정 (매번 다른 시드 값을 사용하도록)\n",
        "random.seed(time.time())\n",
        "\n",
        "# 1단계부터 20단계까지 진행\n",
        "while len(used_inputs) < 20:\n",
        "    # 1~20까지의 숫자 중 하나를 입력\n",
        "    while True:\n",
        "        try:\n",
        "            user_input = int(input(\"1~20까지의 숫자 중 하나를 입력하세요: \"))\n",
        "            if user_input in used_inputs:\n",
        "                print(\"이미 입력한 숫자입니다. 다시 입력해주세요.\")\n",
        "            elif user_input < 1 or user_input > 20:\n",
        "                print(\"1~20 사이의 숫자만 입력 가능합니다. 다시 입력해주세요.\")\n",
        "            else:\n",
        "                used_inputs.append(user_input)\n",
        "                break\n",
        "        except ValueError:\n",
        "            print(\"숫자만 입력해주세요.\")\n",
        "\n",
        "    # 결과값을 선택 (이미 사용된 결과값과 입력값은 제외)\n",
        "    available_results = get_available_results(user_input)\n",
        "    random_result = get_random_result(available_results)\n",
        "\n",
        "    # 결과값 저장\n",
        "    used_results.append(random_result)\n",
        "\n",
        "    # 순서쌍 저장\n",
        "    pairs.append((user_input, random_result))\n",
        "\n",
        "    # 출력\n",
        "    print(f\"입력값: {user_input}, 랜덤값: {random_result}\")\n",
        "    print(f\"순서쌍: {pairs[-1]}\")\n",
        "    print(\"첫 화면으로 돌아갑니다...\\n\")\n",
        "\n",
        "# 모든 입력이 끝나면 최종 결과 출력\n",
        "print(\"최종 결과:\")\n",
        "for pair in pairs:\n",
        "    print(pair)"
      ],
      "metadata": {
        "id": "4LoSf1GuSHNJ"
      },
      "execution_count": null,
      "outputs": []
    }
  ]
}